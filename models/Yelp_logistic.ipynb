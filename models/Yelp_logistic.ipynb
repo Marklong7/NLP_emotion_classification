{
 "cells": [
  {
   "cell_type": "code",
   "execution_count": 43,
   "metadata": {},
   "outputs": [],
   "source": [
    "import numpy as np\n",
    "import matplotlib.pyplot as plt\n",
    "import json # mark: add this line\n",
    "import pandas as pd\n",
    "\n",
    "from sklearn.linear_model import LogisticRegression\n",
    "from sklearn.feature_extraction.text import CountVectorizer\n",
    "from sklearn.model_selection import train_test_split\n",
    "\n",
    "import warnings\n",
    "warnings.filterwarnings('ignore')\n",
    "\n",
    "# Fix the random seed for reproducibility\n",
    "# !! Important !! : do not change this\n",
    "seed = 1234\n",
    "np.random.seed(seed)"
   ]
  },
  {
   "cell_type": "markdown",
   "metadata": {},
   "source": [
    "### Problem 2.2 (10 points): Exploring the Yelp Dataset\n",
    "\n",
    "The Yelp dataset consists of millions of reviews with their scores (1 to 5), all available for public research. We will only use a subset of the reviews here. This review data can be used in a classification task, where we are given a review and we predict whether it is a positive or a negative review. We will consider a review as *negative* if it has a score $\\leq 2$, or *positive* if it has a score $\\geq 4$.\n",
    "\n",
    "Below we pre-process the dataset for you using what's known as a bag-of-words approach. You will run the code create a bag of words (BOW) representation from text documents, using the Vectorizer function in scikit-learn to convert each text review (a string) to a fixed-length vector of numbers that we use as a feature vector for a classifier. \n",
    "\n",
    "Note that the details of how reviews are converted to vectors is not particularly important for you to follow in detail. What is important is to be aware that after we run the code below we will get a data matrix with n rows (one per review) and d features (where each of the d features corresponds to a different word). Each row in the data matrix is a feature vector for a Yelp review, where the values in the feature vector correspond to how often different words occur in the review.\n",
    "\n",
    "In a bit more detail, the bag of words representation of text is a way to turn text (in the form of a string) into a vector of some fixed dimension. More specifically, every document (e.g., a review) is converted into a vector $\\mathbf{x}$, where $\\mathbf{x}_j$ denotes whether the $j$th word from the vocabulary list is used in the sentence. For example, if our vocabulary is `[he, she, his, her, loves, likes, dogs, cats, cute, nice]`, the sentence `\"he loves cats and she loves dogs\"` can be vectorized as `[1, 1, 0, 0, 2, 0, 1, 1, 0, 0]`. This representation allows us to compare documents (e.g., reviews) in the same way we have been doing with tabular data and images.\n",
    "\n",
    "\n",
    "\n",
    "The inputs are \n",
    "- a filename (you will use \"yelp_reviews.json\") containing the reviews in JSON format (provided in the .zip file)\n",
    "- the min_pos and max_neg parameters (use the default values.)\n",
    "\n",
    "The outputs are\n",
    "- **X**: Feature Matrix in compressed sparse row format.\n",
    "    - $\\textbf{X}$ is in shape of [# reviews, # terms in vocabulary]  (where #terms = #features)\n",
    "    - $\\textbf{X}_{ij}$ indicates the number of the $j$th term in the vocabulary existing in the $i$th review.\n",
    "- **y**: Review label vector\n",
    "- **text**: Raw reviews\n",
    "- **vectorizer_BOW.vocabulary_**: A mapping of terms to feature indices, somes terms are excluded\n",
    "\n",
    "\n",
    "\n",
    "**NOTE**: \n",
    "- please read the scikit-learn tutorial on text feature extraction before you start this problem: https://scikit-learn.org/stable/modules/feature_extraction.html#text-feature-extraction  (its fine to just read Sections 6.2.3.1 to 6.2.3.3)"
   ]
  },
  {
   "cell_type": "code",
   "execution_count": 2,
   "metadata": {},
   "outputs": [],
   "source": [
    "def create_bow_from_reviews(filename, min_pos=4, max_neg=2): \n",
    "    \n",
    "    print('Loading the file:', filename) \n",
    "    with open(filename, 'r') as jfile:\n",
    "        data = json.load(jfile)\n",
    "        \n",
    "    print('Total number of reviews extracted =', len(data))\n",
    "\n",
    "    text = []\n",
    "    y = []\n",
    "    print('Extracting tokens from each review.....(can be slow for a large number of reviews)......')   \n",
    "    for d in data: \t# can substitute data[0:9] here if you want to test this function on just a few reviews \t\n",
    "        review = d['text']     # keep only the text and label\n",
    "        stars = int(d['stars'])\n",
    "        if stars >= min_pos:   # represent scores > min_pos as \"1\"\n",
    "            score = 1\n",
    "        elif stars <= max_neg:  # represent scores < max_neg as \"0\"\n",
    "            score = 0\n",
    "        else: # do not consider reviews with scores above max_neg and below min_pos (these reviews will be dropped)\n",
    "            continue  \n",
    "\n",
    "        text.append(review)   \n",
    "        y.append(score)\n",
    "    \n",
    "    # create an instance of a CountVectorizer, using \n",
    "    # (1) the standard 'english' stopword set \n",
    "    # (2) only keeping terms in the vocabulary that occur in at least 1% of documents\n",
    "    # (3) allowing only unigrams in the vocabulary (use \"ngram_range=(1, 1)\" to do this)\n",
    "    vectorizer = CountVectorizer(stop_words='english',min_df=0.02, ngram_range=(1, 1))\n",
    "\n",
    "    # create a sparse BOW array from 'text' using vectorizer\n",
    "    X = vectorizer.fit_transform(text)\n",
    " \n",
    "    print('Data shape: ', X.shape)\n",
    "    \n",
    "    # you can uncomment this next line if you want to see the full list of tokens in the vocabulary  \n",
    "    #print('Vocabulary: ', vectorizer.get_feature_names())\n",
    "\n",
    "    return X, y, vectorizer, text"
   ]
  },
  {
   "cell_type": "code",
   "execution_count": 3,
   "metadata": {},
   "outputs": [],
   "source": [
    "### How does the classifier work? (A more intuitive explanation)"
   ]
  },
  {
   "cell_type": "code",
   "execution_count": 62,
   "metadata": {},
   "outputs": [],
   "source": [
    "'''\n",
    "How the CountVectorizer works (with a short example) - Mark\n",
    "https://scikit-learn.org/stable/modules/generated/sklearn.feature_extraction.text.CountVectorizer.html\n",
    "'''\n",
    "from sklearn.feature_extraction.text import CountVectorizer\n",
    "corpus_temp = ['This is the first document',\n",
    "          'This document is the second document',\n",
    "          'And this is the third one.',\n",
    "          'Is this the first document?',\n",
    "          'Diego Diego Diego:)',\n",
    "          'hyphen test: pre-trained model']\n",
    "Vectorizer_temp = CountVectorizer()\n",
    "X_temp = Vectorizer_temp.fit_transform(corpus_temp)\n"
   ]
  },
  {
   "cell_type": "code",
   "execution_count": 63,
   "metadata": {},
   "outputs": [
    {
     "data": {
      "text/plain": [
       "array(['and', 'diego', 'document', 'first', 'hyphen', 'is', 'model',\n",
       "       'one', 'pre', 'second', 'test', 'the', 'third', 'this', 'trained'],\n",
       "      dtype=object)"
      ]
     },
     "execution_count": 63,
     "metadata": {},
     "output_type": "execute_result"
    }
   ],
   "source": [
    "# sort by alphabet by default, with all words\n",
    "Vectorizer_temp.get_feature_names_out()"
   ]
  },
  {
   "cell_type": "code",
   "execution_count": 64,
   "metadata": {},
   "outputs": [
    {
     "name": "stdout",
     "output_type": "stream",
     "text": [
      "[[0 0 1 1 0 1 0 0 0 0 0 1 0 1 0]\n",
      " [0 0 2 0 0 1 0 0 0 1 0 1 0 1 0]\n",
      " [1 0 0 0 0 1 0 1 0 0 0 1 1 1 0]\n",
      " [0 0 1 1 0 1 0 0 0 0 0 1 0 1 0]\n",
      " [0 3 0 0 0 0 0 0 0 0 0 0 0 0 0]\n",
      " [0 0 0 0 1 0 1 0 1 0 1 0 0 0 1]]\n"
     ]
    },
    {
     "data": {
      "text/plain": [
       "'\\nInterpret the first row (This is the first document):\\n\"and\" appears 0 time,\\n\"document\" appears 1 time,\\n\"first\" appears 1 time,\\n\"is\" appears 1 time,\\n\"one\" appears 1 time.\\n'"
      ]
     },
     "execution_count": 64,
     "metadata": {},
     "output_type": "execute_result"
    }
   ],
   "source": [
    "'''\n",
    "shape = (# of document, # of unique word)\n",
    "Each row corresponds to a document - sum(row 1st) = # of words in row 1,\n",
    "Each column corresponds to a unique word in the corpus,  sum(col 1st) = # of unique word in the whole dataset, \n",
    "The values in the matrix represent the count of each word in the corresponding document.\n",
    "'''\n",
    "print(X_temp.toarray())\n",
    "'''\n",
    "Interpret the first row (This is the first document):\n",
    "\"and\" appears 0 time,\n",
    "\"document\" appears 1 time,\n",
    "\"first\" appears 1 time,\n",
    "\"is\" appears 1 time,\n",
    "\"one\" appears 1 time.\n",
    "'''"
   ]
  },
  {
   "cell_type": "code",
   "execution_count": 65,
   "metadata": {},
   "outputs": [
    {
     "data": {
      "text/html": [
       "<div>\n",
       "<style scoped>\n",
       "    .dataframe tbody tr th:only-of-type {\n",
       "        vertical-align: middle;\n",
       "    }\n",
       "\n",
       "    .dataframe tbody tr th {\n",
       "        vertical-align: top;\n",
       "    }\n",
       "\n",
       "    .dataframe thead th {\n",
       "        text-align: right;\n",
       "    }\n",
       "</style>\n",
       "<table border=\"1\" class=\"dataframe\">\n",
       "  <thead>\n",
       "    <tr style=\"text-align: right;\">\n",
       "      <th></th>\n",
       "      <th>and</th>\n",
       "      <th>diego</th>\n",
       "      <th>document</th>\n",
       "      <th>first</th>\n",
       "      <th>hyphen</th>\n",
       "      <th>is</th>\n",
       "      <th>model</th>\n",
       "      <th>one</th>\n",
       "      <th>pre</th>\n",
       "      <th>second</th>\n",
       "      <th>test</th>\n",
       "      <th>the</th>\n",
       "      <th>third</th>\n",
       "      <th>this</th>\n",
       "      <th>trained</th>\n",
       "    </tr>\n",
       "  </thead>\n",
       "  <tbody>\n",
       "    <tr>\n",
       "      <th>0</th>\n",
       "      <td>0</td>\n",
       "      <td>0</td>\n",
       "      <td>1</td>\n",
       "      <td>1</td>\n",
       "      <td>0</td>\n",
       "      <td>1</td>\n",
       "      <td>0</td>\n",
       "      <td>0</td>\n",
       "      <td>0</td>\n",
       "      <td>0</td>\n",
       "      <td>0</td>\n",
       "      <td>1</td>\n",
       "      <td>0</td>\n",
       "      <td>1</td>\n",
       "      <td>0</td>\n",
       "    </tr>\n",
       "    <tr>\n",
       "      <th>1</th>\n",
       "      <td>0</td>\n",
       "      <td>0</td>\n",
       "      <td>2</td>\n",
       "      <td>0</td>\n",
       "      <td>0</td>\n",
       "      <td>1</td>\n",
       "      <td>0</td>\n",
       "      <td>0</td>\n",
       "      <td>0</td>\n",
       "      <td>1</td>\n",
       "      <td>0</td>\n",
       "      <td>1</td>\n",
       "      <td>0</td>\n",
       "      <td>1</td>\n",
       "      <td>0</td>\n",
       "    </tr>\n",
       "    <tr>\n",
       "      <th>2</th>\n",
       "      <td>1</td>\n",
       "      <td>0</td>\n",
       "      <td>0</td>\n",
       "      <td>0</td>\n",
       "      <td>0</td>\n",
       "      <td>1</td>\n",
       "      <td>0</td>\n",
       "      <td>1</td>\n",
       "      <td>0</td>\n",
       "      <td>0</td>\n",
       "      <td>0</td>\n",
       "      <td>1</td>\n",
       "      <td>1</td>\n",
       "      <td>1</td>\n",
       "      <td>0</td>\n",
       "    </tr>\n",
       "    <tr>\n",
       "      <th>3</th>\n",
       "      <td>0</td>\n",
       "      <td>0</td>\n",
       "      <td>1</td>\n",
       "      <td>1</td>\n",
       "      <td>0</td>\n",
       "      <td>1</td>\n",
       "      <td>0</td>\n",
       "      <td>0</td>\n",
       "      <td>0</td>\n",
       "      <td>0</td>\n",
       "      <td>0</td>\n",
       "      <td>1</td>\n",
       "      <td>0</td>\n",
       "      <td>1</td>\n",
       "      <td>0</td>\n",
       "    </tr>\n",
       "    <tr>\n",
       "      <th>4</th>\n",
       "      <td>0</td>\n",
       "      <td>3</td>\n",
       "      <td>0</td>\n",
       "      <td>0</td>\n",
       "      <td>0</td>\n",
       "      <td>0</td>\n",
       "      <td>0</td>\n",
       "      <td>0</td>\n",
       "      <td>0</td>\n",
       "      <td>0</td>\n",
       "      <td>0</td>\n",
       "      <td>0</td>\n",
       "      <td>0</td>\n",
       "      <td>0</td>\n",
       "      <td>0</td>\n",
       "    </tr>\n",
       "    <tr>\n",
       "      <th>5</th>\n",
       "      <td>0</td>\n",
       "      <td>0</td>\n",
       "      <td>0</td>\n",
       "      <td>0</td>\n",
       "      <td>1</td>\n",
       "      <td>0</td>\n",
       "      <td>1</td>\n",
       "      <td>0</td>\n",
       "      <td>1</td>\n",
       "      <td>0</td>\n",
       "      <td>1</td>\n",
       "      <td>0</td>\n",
       "      <td>0</td>\n",
       "      <td>0</td>\n",
       "      <td>1</td>\n",
       "    </tr>\n",
       "  </tbody>\n",
       "</table>\n",
       "</div>"
      ],
      "text/plain": [
       "   and  diego  document  first  hyphen  is  model  one  pre  second  test  \\\n",
       "0    0      0         1      1       0   1      0    0    0       0     0   \n",
       "1    0      0         2      0       0   1      0    0    0       1     0   \n",
       "2    1      0         0      0       0   1      0    1    0       0     0   \n",
       "3    0      0         1      1       0   1      0    0    0       0     0   \n",
       "4    0      3         0      0       0   0      0    0    0       0     0   \n",
       "5    0      0         0      0       1   0      1    0    1       0     1   \n",
       "\n",
       "   the  third  this  trained  \n",
       "0    1      0     1        0  \n",
       "1    1      0     1        0  \n",
       "2    1      1     1        0  \n",
       "3    1      0     1        0  \n",
       "4    0      0     0        0  \n",
       "5    0      0     0        1  "
      ]
     },
     "execution_count": 65,
     "metadata": {},
     "output_type": "execute_result"
    }
   ],
   "source": [
    "# a more intuitive way to understand the table in previous chunk.\n",
    "dense_matrix = pd.DataFrame(X_temp.toarray(), columns=Vectorizer_temp.get_feature_names_out())\n",
    "dense_matrix"
   ]
  },
  {
   "cell_type": "code",
   "execution_count": 81,
   "metadata": {},
   "outputs": [
    {
     "data": {
      "text/plain": [
       "matrix([[5],\n",
       "        [5],\n",
       "        [6],\n",
       "        [5],\n",
       "        [1],\n",
       "        [5]])"
      ]
     },
     "execution_count": 81,
     "metadata": {},
     "output_type": "execute_result"
    }
   ],
   "source": [
    "np.sum(X_temp > 0, axis=1)"
   ]
  },
  {
   "cell_type": "code",
   "execution_count": 82,
   "metadata": {},
   "outputs": [
    {
     "data": {
      "image/png": "[encoded data removed]",
      "text/plain": [
       "<Figure size 640x480 with 1 Axes>"
      ]
     },
     "metadata": {},
     "output_type": "display_data"
    }
   ],
   "source": [
    "review_word_count_histgram(X_temp)"
   ]
  },
  {
   "cell_type": "code",
   "execution_count": 8,
   "metadata": {},
   "outputs": [],
   "source": [
    "# delete those irrelevant variables\n",
    "del X_temp, Vectorizer_temp, corpus_temp"
   ]
  },
  {
   "cell_type": "code",
   "execution_count": 13,
   "metadata": {},
   "outputs": [
    {
     "name": "stdout",
     "output_type": "stream",
     "text": [
      "Loading the file: ../datasets/yelp_reviews.json\n",
      "Total number of reviews extracted = 20000\n",
      "Extracting tokens from each review.....(can be slow for a large number of reviews)......\n",
      "Data shape:  (17501, 404)\n"
     ]
    }
   ],
   "source": [
    "X, y, vectorizer_BOW, text = create_bow_from_reviews('../datasets/yelp_reviews.json') "
   ]
  },
  {
   "cell_type": "code",
   "execution_count": 50,
   "metadata": {},
   "outputs": [
    {
     "data": {
      "text/plain": [
       "(17501, 404)"
      ]
     },
     "execution_count": 50,
     "metadata": {},
     "output_type": "execute_result"
    }
   ],
   "source": [
    "# this means there are 17501 documents, and 404 unique words\n",
    "X.toarray().shape"
   ]
  },
  {
   "cell_type": "markdown",
   "metadata": {},
   "source": [
    "- **Implement the function `review_word_count_histogram`, which generates a histogram to show how many unique words (from the vocabulary) are in each review. That is, for each review, count the number of unique words in the review, and plot a histogram illustrating these counts.**"
   ]
  },
  {
   "cell_type": "code",
   "execution_count": 79,
   "metadata": {},
   "outputs": [
    {
     "data": {
      "image/png": "[encoded data removed]",
      "text/plain": [
       "<Figure size 640x480 with 1 Axes>"
      ]
     },
     "metadata": {},
     "output_type": "display_data"
    }
   ],
   "source": [
    "# Mark: the visualization here is problematic\n",
    "def review_word_count_histgram(X):\n",
    "    '''\n",
    "    X:  [# feature vectors, # features], feature vectors\n",
    "    '''\n",
    "    ### YOUR CODE STARTS HERE ###\n",
    "    fig, axes = plt.subplots()\n",
    "\n",
    "    dens = np.sum(X > 0, axis=1) # get unique word density for each comment\n",
    "    axes.hist(dens, bins=30, edgecolor='black')\n",
    "    axes.set_xlabel('Word counts', fontsize=14)\n",
    "\n",
    "\n",
    "    ###  YOUR CODE ENDS HERE  ###\n",
    "\n",
    "review_word_count_histgram(X)"
   ]
  },
  {
   "cell_type": "markdown",
   "metadata": {},
   "source": [
    "### Problem 2.3 (10 points): Fit a logistic regression classifier on Yelp dataset.\n",
    "\n",
    "You will now build a logistic regression model to classify reviews as either negative or positive. In the code you are given, a training/testing split has already been created for you.\n",
    "\n",
    "- Build a logistic classifier on the training subset. **Please use 'l1' `penality` type, 'liblinear' `solver` and enable `fit_intercept`.**\n",
    "- Evaluate the accuracy of your model on the test subset.\n",
    "\n",
    "**NOTE**: \n",
    "before starting this problem please read the scikit-learn documentation on [linear classifiers](https://scikit-learn.org/stable/modules/linear_model.html) and [logistic regression](https://scikit-learn.org/stable/modules/generated/sklearn.linear_model.LogisticRegression.html#sklearn.linear_model.LogisticRegression)."
   ]
  },
  {
   "cell_type": "code",
   "execution_count": null,
   "metadata": {},
   "outputs": [],
   "source": [
    "def logistic_classification(X, y): \n",
    "    X_train, X_test, y_train, y_test = train_test_split(X, y, test_size=0.3, random_state=seed)\n",
    "   \n",
    "    print('Number of training examples: ', X_train.shape[0])\n",
    "    print('Number of testing examples: ', X_test.shape[0])   \n",
    "    print('Vocabulary size: ', X_train.shape[1]) \n",
    "    \n",
    "    ### YOUR CODE STARTS HERE ###\n",
    "    \n",
    "    # Specify the logistic classifier model, \n",
    "    # Please use 'l1' penality type, 'liblinear' solver and enable fit_intercept\n",
    "    classifier = LogisticRegression(penalty='l1', solver='liblinear', fit_intercept=True).fit(X_train, y_train)\n",
    "    \n",
    "    # Compute and print accuracy on the test data\n",
    "    test_predictions = classifier.predict(X_test)\n",
    "    test_accuracy = np.mean(test_predictions == y_test)\n",
    "\n",
    "    ###  YOUR CODE ENDS HERE  ###\n",
    "    \n",
    "    print('\\nTesting accuracy:', format( 100*test_accuracy , '.2f') )\n",
    "    \n",
    "    return classifier"
   ]
  },
  {
   "cell_type": "code",
   "execution_count": null,
   "metadata": {},
   "outputs": [
    {
     "name": "stdout",
     "output_type": "stream",
     "text": [
      "Number of training examples:  12250\n",
      "Number of testing examples:  5251\n",
      "Vocabulary size:  404\n",
      "\n",
      "Testing accuracy: 89.51\n"
     ]
    }
   ],
   "source": [
    "logistic_classifier = logistic_classification(X, y)"
   ]
  },
  {
   "cell_type": "markdown",
   "metadata": {},
   "source": [
    "### Problem 2.4 (10 points): Find the top k most negative/most positive features\n",
    "\n",
    "In this problem, you will complete the function `most_significant_terms`. This function will:\n",
    "\n",
    "- print and return the most significant positive and negative weights of your logistic regresson model\n",
    "- print and return the words associated with these weights.\n",
    "\n",
    "The function `most_significant_terms` takes as input\n",
    "- a scikit-learn trained logistic regression classifier (e.g., trained in Problem 2.3) \n",
    "- a scikit-learn vectorizer object that produced the BOW features for the classifier\n",
    "\n",
    "and prints out\n",
    "- the terms in the vocabulary tokens with the **top 10** largest positive weights  \n",
    "- the terms in the vocabulary with the **top 10** smallest (i.e., largest in terms of absolute value) negative weights. For example, a weight of $-10$ is smaller than a weight of $-1$. \n",
    "\n",
    "Hint: Check the attributes section of the vectorizer documentation (https://scikit-learn.org/stable/modules/generated/sklearn.feature_extraction.text.CountVectorizer.html) to find where the mapping between words and indices are located."
   ]
  },
  {
   "cell_type": "code",
   "execution_count": null,
   "metadata": {},
   "outputs": [],
   "source": [
    "def most_significant_terms(classifier, vectorizer, K):\n",
    "    # cycle through the positive weights, in the order of largest weight first and print out\n",
    "    # K lines where each line contains\n",
    "    # (a) the term corresponding to the weight (a string)\n",
    "    # (b) the weight value itself (a scalar printed to 3 decimal places)\n",
    "    \n",
    "    ### YOUR CODE STARTS HERE ###\n",
    "\n",
    "    # extract coefficients from trained model and sort based on coefficient\n",
    "    args = np.argsort(classifier.coef_[0])\n",
    "    top_args = args[-K:][::-1]\n",
    "    low_args = args[:K]\n",
    "    vocab = {v : k for k, v in vectorizer.vocabulary_.items()}\n",
    "    \n",
    "    # extract topK positive terms\n",
    "    topK_pos_terms = [ vocab[index] for index in top_args ]\n",
    "    \n",
    "    # extract corresponding weights\n",
    "    topK_pos_weights = np.round(classifier.coef_[0][top_args], decimals=3)\n",
    "    \n",
    "    # extract topK negative terms\n",
    "    topK_neg_terms = [ vocab[index] for index in low_args ]\n",
    "    \n",
    "    # extract corresponding weights\n",
    "    topK_neg_weights = np.round(classifier.coef_[0][low_args], decimals=3)\n",
    "\n",
    "\n",
    "    ###  YOUR CODE ENDS HERE  ###\n",
    "    print('topK_pos_weights', topK_pos_weights)\n",
    "    print('topK_pos_terms', topK_pos_terms)\n",
    "    print('topK_neg_weights', topK_neg_weights)\n",
    "    print('topK_neg_terms',topK_neg_terms)\n",
    "    \n",
    "    return (topK_pos_weights, topK_neg_weights, topK_pos_terms, topK_neg_terms)"
   ]
  },
  {
   "cell_type": "code",
   "execution_count": null,
   "metadata": {},
   "outputs": [
    {
     "name": "stdout",
     "output_type": "stream",
     "text": [
      "topK_pos_weights [2.312 2.306 2.032 1.986 1.761 1.727 1.726 1.673 1.634 1.557]\n",
      "topK_pos_terms ['unique', 'delicious', 'excellent', 'amazing', 'awesome', 'wonderful', 'thank', 'perfect', 'enjoyed', 'easy']\n",
      "topK_neg_weights [-3.322 -1.544 -1.299 -1.269 -1.174 -1.109 -1.075 -0.903 -0.899 -0.857]\n",
      "topK_neg_terms ['worst', 'okay', 'disappointed', 'tasted', 'ok', 'guess', 'won', 'maybe', 'slow', 'money']\n"
     ]
    }
   ],
   "source": [
    "output = most_significant_terms(logistic_classifier, vectorizer_BOW, K=10)"
   ]
  },
  {
   "cell_type": "markdown",
   "metadata": {},
   "source": [
    " - What do you observe from the above output? Provide a short explanation for why you see what you see."
   ]
  },
  {
   "cell_type": "markdown",
   "metadata": {},
   "source": [
    "**[The top 10 positive weights are associated with positive words, and top 10 negative weights are associated with negative words. Because in a positive review, writer tends to use more positive words to describe than using negative words and vice versa.]**"
   ]
  },
  {
   "cell_type": "markdown",
   "metadata": {},
   "source": [
    "### Problem 2.5 (10 points): Tune reguarlization parameter on Yelp dataset\n",
    "\n",
    "In this problem, you will tune the regularization parameter of your logistic regression model in order to increase your accuracy.\n",
    "\n",
    "- Complete the function `accuracy_vs_reg`. This function should perform L1 regularization using the values defined in the array 'cs' below. For every value of the regularization parameter in `cs`, you should store the resulting training accuracy in the list `train_accuracies` and the resulting testing accuracy in the list `test_accuracies`.\n",
    "- Use your implementation to plot the curves of train/test accuracy vs regularization strength, for the Yelp data we used above. The plotting code necessary to do this is already given to you, and you only need to call the function."
   ]
  },
  {
   "cell_type": "code",
   "execution_count": null,
   "metadata": {},
   "outputs": [],
   "source": [
    "def accuracy_vs_reg(X, y):\n",
    "    X_train, X_test, y_train, y_test = train_test_split(X, y, test_size=0.3, random_state=seed)\n",
    "    \n",
    "    # log initialization\n",
    "    coefs_ = []\n",
    "    train_accuracies = []\n",
    "    test_accuracies = []\n",
    "    cs = [0, 0.1, 1, 10, 50]\n",
    "    \n",
    "    ### YOUR CODE STARTS HERE ###\n",
    "    for c in cs:\n",
    "        \n",
    "        # Specify the logistic classifier model\n",
    "        if c == 0:\n",
    "            classifier = LogisticRegression(penalty='none', fit_intercept=True)\n",
    "        else:\n",
    "            # Refer https://scikit-learn.org/stable/modules/generated/sklearn.linear_model.LogisticRegression.html\n",
    "            # to see which argument can adjust the regularization strength,\n",
    "            # Additionally, please use 'l1' penalty type, 'liblinear' solver and enable fit_intercept\n",
    "            classifier = LogisticRegression(penalty='l1', C=c, solver='liblinear', fit_intercept=True)\n",
    "            \n",
    "        classifier.fit(X_train, y_train)\n",
    "        \n",
    "        # log model coefficients\n",
    "        coefs_.append(classifier.coef_[0])\n",
    "        \n",
    "        # log model training and test accuracies\n",
    "        train_accuracies.append(classifier.score(X_train, y_train))\n",
    "        test_accuracies.append(classifier.score(X_test, y_test))\n",
    "\n",
    "    ###  YOUR CODE ENDS HERE  ###\n",
    "    \n",
    "    fig, axes = plt.subplots()\n",
    "    axes.semilogx(cs, train_accuracies, color='red', label='training accuracy')\n",
    "    axes.semilogx(cs, test_accuracies, color='blue', label='testing accuracy')\n",
    "    \n",
    "    axes.set_xlabel('regularization strength', fontsize=14)\n",
    "    axes.set_ylabel('accuracy', fontsize=14)\n",
    "    \n",
    "    axes.legend()\n",
    "\n",
    "    return train_accuracies, test_accuracies, coefs_"
   ]
  },
  {
   "cell_type": "code",
   "execution_count": null,
   "metadata": {},
   "outputs": [
    {
     "data": {
      "image/png": "[encoded data removed]",
      "text/plain": [
       "<Figure size 640x480 with 1 Axes>"
      ]
     },
     "metadata": {},
     "output_type": "display_data"
    }
   ],
   "source": [
    "train_accuracies, test_accuracies, coefs = accuracy_vs_reg(X, y)"
   ]
  },
  {
   "cell_type": "markdown",
   "metadata": {},
   "source": [
    "- Choose a final value for the regularization parameter and justify your choice. You should choose a **single** value from the list `cs` given in the code above. "
   ]
  },
  {
   "cell_type": "markdown",
   "metadata": {},
   "source": [
    "**[The regularization parameter should be 1, because it has the highest accuracy on the testing data set.]**"
   ]
  }
 ],
 "metadata": {
  "kernelspec": {
   "display_name": "Python 3 (ipykernel)",
   "language": "python",
   "name": "python3"
  },
  "language_info": {
   "codemirror_mode": {
    "name": "ipython",
    "version": 3
   },
   "file_extension": ".py",
   "mimetype": "text/x-python",
   "name": "python",
   "nbconvert_exporter": "python",
   "pygments_lexer": "ipython3",
   "version": "3.11.5"
  }
 },
 "nbformat": 4,
 "nbformat_minor": 4
}
