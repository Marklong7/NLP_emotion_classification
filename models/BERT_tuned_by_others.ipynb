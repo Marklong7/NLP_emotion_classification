{
  "cells": [
    {
      "cell_type": "markdown",
      "id": "abf8884d",
      "metadata": {
        "id": "abf8884d"
      },
      "source": [
        "# BERT"
      ]
    },
    {
      "cell_type": "code",
      "execution_count": null,
      "id": "4d78796a",
      "metadata": {
        "id": "4d78796a"
      },
      "outputs": [],
      "source": [
        "import numpy as np\n",
        "import pandas as pd\n",
        "import matplotlib.pyplot as plt\n",
        "import pandas as pd\n",
        "from sklearn.model_selection import train_test_split\n",
        "from sklearn.model_selection import GridSearchCV\n",
        "from sklearn.metrics import confusion_matrix\n",
        "from sklearn.linear_model import LogisticRegression\n",
        "from sklearn.metrics import f1_score"
      ]
    },
    {
      "cell_type": "code",
      "execution_count": null,
      "id": "d1cfbb4a",
      "metadata": {
        "id": "d1cfbb4a"
      },
      "outputs": [],
      "source": [
        "file_path = \"dataset_raw.csv\"\n",
        "data = pd.read_csv(file_path)"
      ]
    },
    {
      "cell_type": "code",
      "execution_count": null,
      "id": "b03db80a",
      "metadata": {
        "colab": {
          "base_uri": "https://localhost:8080/"
        },
        "id": "b03db80a",
        "outputId": "9bd4de2b-e07c-4de2-c131-6cc95010d0f6"
      },
      "outputs": [
        {
          "output_type": "stream",
          "name": "stdout",
          "text": [
            "(20000,)\n",
            "(20000,)\n"
          ]
        }
      ],
      "source": [
        "X = data['text']\n",
        "y = data['category']\n",
        "print(X.shape)\n",
        "print(y.shape)"
      ]
    },
    {
      "cell_type": "code",
      "execution_count": null,
      "id": "4aea6759",
      "metadata": {
        "colab": {
          "base_uri": "https://localhost:8080/"
        },
        "id": "4aea6759",
        "outputId": "c798b546-cdce-4896-f596-09a85875f126"
      },
      "outputs": [
        {
          "output_type": "stream",
          "name": "stdout",
          "text": [
            "Value Counts:\n",
            "0: 5797\n",
            "1: 6761\n",
            "2: 1641\n",
            "3: 2709\n",
            "4: 2373\n",
            "5: 719\n"
          ]
        }
      ],
      "source": [
        "unique_values, counts = np.unique(y, return_counts=True)\n",
        "value_counts = dict(zip(unique_values, counts))\n",
        "print(\"Value Counts:\")\n",
        "for value, count in value_counts.items():\n",
        "    print(f\"{value}: {count}\")"
      ]
    },
    {
      "cell_type": "code",
      "execution_count": null,
      "id": "b44526c2",
      "metadata": {
        "id": "b44526c2"
      },
      "outputs": [],
      "source": [
        "#!pip install datasets"
      ]
    },
    {
      "cell_type": "code",
      "execution_count": null,
      "id": "8d9fbb25",
      "metadata": {
        "id": "8d9fbb25"
      },
      "outputs": [],
      "source": [
        "#!pip install torch"
      ]
    },
    {
      "cell_type": "code",
      "execution_count": null,
      "id": "6985da91",
      "metadata": {
        "id": "6985da91"
      },
      "outputs": [],
      "source": [
        "import torch\n",
        "from datasets import load_dataset\n",
        "from transformers import pipeline\n",
        "import pandas as pd\n",
        "import plotly.express as px"
      ]
    },
    {
      "cell_type": "code",
      "execution_count": null,
      "id": "4676ded0",
      "metadata": {
        "id": "4676ded0"
      },
      "outputs": [],
      "source": [
        "device = torch.device(\"cuda\")"
      ]
    },
    {
      "cell_type": "markdown",
      "source": [
        "## BERT Use-case Demo"
      ],
      "metadata": {
        "id": "Y8gS7BB0ENJK"
      },
      "id": "Y8gS7BB0ENJK"
    },
    {
      "cell_type": "code",
      "execution_count": null,
      "id": "5fe94b74",
      "metadata": {
        "colab": {
          "base_uri": "https://localhost:8080/"
        },
        "id": "5fe94b74",
        "outputId": "d4424577-193d-4eac-e941-a47489cb1f40"
      },
      "outputs": [
        {
          "output_type": "stream",
          "name": "stdout",
          "text": [
            "[[{'label': 'sadness', 'score': 0.0005138230626471341}, {'label': 'joy', 'score': 0.9972521662712097}, {'label': 'love', 'score': 0.0007443324429914355}, {'label': 'anger', 'score': 0.0007404921343550086}, {'label': 'fear', 'score': 0.00032938565709628165}, {'label': 'surprise', 'score': 0.00041974865598604083}]]\n"
          ]
        },
        {
          "output_type": "stream",
          "name": "stderr",
          "text": [
            "/usr/local/lib/python3.10/dist-packages/transformers/pipelines/text_classification.py:104: UserWarning: `return_all_scores` is now deprecated,  if want a similar functionality use `top_k=None` instead of `return_all_scores=True` or `top_k=1` instead of `return_all_scores=False`.\n",
            "  warnings.warn(\n"
          ]
        }
      ],
      "source": [
        "# BERT - uncased emotion\n",
        "# A find-tuned bert-based classifier\n",
        "# https://huggingface.co/bhadresh-savani/bert-base-uncased-emotion\n",
        "\n",
        "classifier = pipeline(\"text-classification\",model='bhadresh-savani/bert-base-uncased-emotion', return_all_scores=True)\n",
        "prediction = classifier(\"I love using transformers. The best part is wide range of support and its easy to use\", )\n",
        "print(prediction)"
      ]
    },
    {
      "cell_type": "code",
      "source": [
        "prediction"
      ],
      "metadata": {
        "colab": {
          "base_uri": "https://localhost:8080/"
        },
        "id": "j2iMuEl39YTU",
        "outputId": "92d3123c-5e0e-48c4-dc90-e768b2130d78"
      },
      "id": "j2iMuEl39YTU",
      "execution_count": null,
      "outputs": [
        {
          "output_type": "execute_result",
          "data": {
            "text/plain": [
              "[[{'label': 'sadness', 'score': 0.0005138230626471341},\n",
              "  {'label': 'joy', 'score': 0.9972521662712097},\n",
              "  {'label': 'love', 'score': 0.0007443324429914355},\n",
              "  {'label': 'anger', 'score': 0.0007404921343550086},\n",
              "  {'label': 'fear', 'score': 0.00032938565709628165},\n",
              "  {'label': 'surprise', 'score': 0.00041974865598604083}]]"
            ]
          },
          "metadata": {},
          "execution_count": 17
        }
      ]
    },
    {
      "cell_type": "code",
      "execution_count": null,
      "id": "0af4ca3d",
      "metadata": {
        "id": "0af4ca3d"
      },
      "outputs": [],
      "source": [
        "# run the model to test our dataset\n",
        "# note, use the exactly same way to split the dataset!!!!!!"
      ]
    },
    {
      "cell_type": "code",
      "source": [
        "## Train-test split"
      ],
      "metadata": {
        "id": "W0bvH-1LD_QT"
      },
      "id": "W0bvH-1LD_QT",
      "execution_count": null,
      "outputs": []
    },
    {
      "cell_type": "markdown",
      "source": [
        "## Train-Test Split"
      ],
      "metadata": {
        "id": "1lIHqik0EDqC"
      },
      "id": "1lIHqik0EDqC"
    },
    {
      "cell_type": "code",
      "source": [
        "X = data['text']\n",
        "y = data['category']"
      ],
      "metadata": {
        "id": "vaeJXnMAEGXu"
      },
      "id": "vaeJXnMAEGXu",
      "execution_count": null,
      "outputs": []
    },
    {
      "cell_type": "code",
      "source": [
        "# Splitting the data and renaming variables\n",
        "X_train, X_temp, y_train, y_temp = train_test_split(X, y, test_size=0.4, random_state=42)\n",
        "X_val, X_test, y_val, y_test = train_test_split(X_temp, y_temp, test_size=0.5, random_state=42)\n",
        "\n",
        "\n",
        "print('Data shape: ', X.shape)\n",
        "\n",
        "# Displaying the shapes of the resulting sets\n",
        "print(\"X_train shape:\", X_train.shape)\n",
        "print(\"X_val shape:\", X_val.shape)\n",
        "print(\"X_test shape:\", X_test.shape)\n",
        "print(\"y_train shape:\", y_train.shape)\n",
        "print(\"y_val shape:\", y_val.shape)\n",
        "print(\"y_test shape:\", y_test.shape)"
      ],
      "metadata": {
        "colab": {
          "base_uri": "https://localhost:8080/"
        },
        "id": "gO3ssXsMEH77",
        "outputId": "35101321-bfdb-42eb-8676-62faa59d9348"
      },
      "id": "gO3ssXsMEH77",
      "execution_count": null,
      "outputs": [
        {
          "output_type": "stream",
          "name": "stdout",
          "text": [
            "Data shape:  (20000,)\n",
            "X_train shape: (12000,)\n",
            "X_val shape: (4000,)\n",
            "X_test shape: (4000,)\n",
            "y_train shape: (12000,)\n",
            "y_val shape: (4000,)\n",
            "y_test shape: (4000,)\n"
          ]
        }
      ]
    },
    {
      "cell_type": "code",
      "source": [
        "y"
      ],
      "metadata": {
        "colab": {
          "base_uri": "https://localhost:8080/"
        },
        "id": "SU0ZzLrtMto6",
        "outputId": "012c9e67-a33d-4574-91c9-52711fb6b865"
      },
      "id": "SU0ZzLrtMto6",
      "execution_count": null,
      "outputs": [
        {
          "output_type": "execute_result",
          "data": {
            "text/plain": [
              "0        0\n",
              "1        0\n",
              "2        3\n",
              "3        2\n",
              "4        3\n",
              "        ..\n",
              "19995    3\n",
              "19996    3\n",
              "19997    1\n",
              "19998    1\n",
              "19999    4\n",
              "Name: category, Length: 20000, dtype: int64"
            ]
          },
          "metadata": {},
          "execution_count": 43
        }
      ]
    },
    {
      "cell_type": "code",
      "execution_count": null,
      "id": "7bc1df9e",
      "metadata": {
        "id": "7bc1df9e"
      },
      "outputs": [],
      "source": [
        "from sklearn.metrics import accuracy_score, f1_score\n",
        "from sklearn.model_selection import train_test_split\n",
        "\n",
        "\n",
        "# Function to calculate performance metrics\n",
        "def evaluate_performance(X):\n",
        "    predicted_labels = []\n",
        "\n",
        "    # Iterate through the dataset to make predictions for each text\n",
        "    for text in X:\n",
        "        prediction = classifier(text)\n",
        "        predicted_label = max(prediction[0], key=lambda x: x['score'])['label']\n",
        "        predicted_labels.append(predicted_label)\n",
        "\n",
        "    return predicted_labels\n",
        "\n",
        "# # Evaluate performance on train set\n",
        "# train_pred = evaluate_performance(X_train)\n",
        "\n",
        "# # Evaluate performance on validation set\n",
        "# val_pred = evaluate_performance(X_val)\n",
        "\n",
        "# Evaluate performance on test set\n",
        "test_pred = evaluate_performance(X_test)"
      ]
    },
    {
      "cell_type": "code",
      "source": [
        "# Define a mapping dictionary\n",
        "emotion_mapping = {\n",
        "    'sadness': 0,\n",
        "    'joy': 1,\n",
        "    'love': 2,\n",
        "    'anger': 3,\n",
        "    'fear': 4,\n",
        "    'surprise': 5\n",
        "}\n",
        "\n",
        "# Convert predicted labels to numbers\n",
        "predicted_labels_numeric = [emotion_mapping[label] for label in test_pred]"
      ],
      "metadata": {
        "id": "ofmC1o9tFi4L"
      },
      "id": "ofmC1o9tFi4L",
      "execution_count": null,
      "outputs": []
    },
    {
      "cell_type": "code",
      "source": [
        "from sklearn.metrics import confusion_matrix, classification_report\n",
        "import matplotlib.pyplot as plt\n",
        "import seaborn as sns\n",
        "\n",
        "# Calculate confusion matrix\n",
        "conf_matrix = confusion_matrix(y_test, predicted_labels_numeric)\n",
        "\n",
        "# Plot confusion matrix\n",
        "plt.figure(figsize=(10, 8))\n",
        "sns.heatmap(conf_matrix, annot=True, fmt='d', cmap='Blues', xticklabels=emotion_mapping.keys(), yticklabels=emotion_mapping.keys())\n",
        "plt.xlabel('Predicted Label')\n",
        "plt.ylabel('True Label')\n",
        "plt.title('Confusion Matrix')\n",
        "plt.show()\n",
        "\n",
        "# Calculate classification report\n",
        "cls_report = classification_report(y_test, predicted_labels_numeric, target_names=emotion_mapping.keys())\n",
        "\n",
        "# Print classification report\n",
        "print(\"Classification Report:\")\n",
        "print(cls_report)\n",
        "\n",
        "# Calculate and print other performance metrics\n",
        "# You can calculate additional metrics such as precision, recall, etc.\n"
      ],
      "metadata": {
        "colab": {
          "base_uri": "https://localhost:8080/",
          "height": 968
        },
        "id": "9yrD0GZ9ITYt",
        "outputId": "40d10e8d-b42c-4b6f-a158-be66e034b29c"
      },
      "id": "9yrD0GZ9ITYt",
      "execution_count": null,
      "outputs": [
        {
          "output_type": "display_data",
          "data": {
            "text/plain": [
              "<Figure size 1000x800 with 2 Axes>"
            ],
            "image/png": "[encoded data removed]"
          },
          "metadata": {}
        },
        {
          "output_type": "stream",
          "name": "stdout",
          "text": [
            "Classification Report:\n",
            "              precision    recall  f1-score   support\n",
            "\n",
            "     sadness       0.99      0.98      0.99      1175\n",
            "         joy       0.98      0.99      0.98      1373\n",
            "        love       0.96      0.93      0.94       325\n",
            "       anger       0.98      0.97      0.98       543\n",
            "        fear       0.94      0.97      0.96       448\n",
            "    surprise       0.90      0.90      0.90       136\n",
            "\n",
            "    accuracy                           0.97      4000\n",
            "   macro avg       0.96      0.96      0.96      4000\n",
            "weighted avg       0.97      0.97      0.97      4000\n",
            "\n"
          ]
        }
      ]
    },
    {
      "cell_type": "code",
      "source": [],
      "metadata": {
        "id": "Mlcv5cAlOPBN"
      },
      "id": "Mlcv5cAlOPBN",
      "execution_count": null,
      "outputs": []
    }
  ],
  "metadata": {
    "kernelspec": {
      "display_name": "Python 3 (ipykernel)",
      "language": "python",
      "name": "python3"
    },
    "language_info": {
      "codemirror_mode": {
        "name": "ipython",
        "version": 3
      },
      "file_extension": ".py",
      "mimetype": "text/x-python",
      "name": "python",
      "nbconvert_exporter": "python",
      "pygments_lexer": "ipython3",
      "version": "3.9.13"
    },
    "colab": {
      "provenance": []
    }
  },
  "nbformat": 4,
  "nbformat_minor": 5
}