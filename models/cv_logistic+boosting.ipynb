{
 "cells": [
  {
   "cell_type": "markdown",
   "metadata": {},
   "source": [
    "# Modeling with Logistic Classification and XGBoost"
   ]
  },
  {
   "cell_type": "code",
   "execution_count": 11,
   "metadata": {},
   "outputs": [],
   "source": [
    "# !pip install datasets\n",
    "from datasets import load_dataset\n",
    "import numpy as np\n",
    "import matplotlib.pyplot as plt\n",
    "import pandas as pd\n",
    "\n",
    "import xgboost as xgb\n",
    "from sklearn.linear_model import LogisticRegression\n",
    "from sklearn.feature_extraction.text import CountVectorizer\n",
    "from sklearn.model_selection import GridSearchCV, train_test_split\n",
    "from sklearn.metrics import confusion_matrix, accuracy_score\n",
    "\n",
    "seed = 1234"
   ]
  },
  {
   "cell_type": "code",
   "execution_count": 2,
   "metadata": {},
   "outputs": [
    {
     "name": "stdout",
     "output_type": "stream",
     "text": [
      "Data shape:  (20000, 1261)\n"
     ]
    }
   ],
   "source": [
    "dataset = load_dataset(\"dair-ai/emotion\", trust_remote_code=True)\n",
    "\n",
    "X_train = dataset['train'][:]['text'].copy()\n",
    "y_train = dataset['train'][:]['label'].copy()\n",
    "X_val = dataset['validation'][:]['text'].copy()\n",
    "y_val = dataset['validation'][:]['label'].copy()\n",
    "X_test = dataset['test'][:]['text'].copy()\n",
    "y_test = dataset['test'][:]['label'].copy()\n",
    "\n",
    "X = np.concatenate((X_train, X_val, X_test), axis=0)\n",
    "y = np.concatenate((y_train, y_val, y_test), axis = 0)\n",
    "\n",
    "vec = CountVectorizer(stop_words='english',min_df=0.001, ngram_range=(1, 1))\n",
    "X = vec.fit_transform(X)\n",
    "print('Data shape: ', X.shape)"
   ]
  },
  {
   "cell_type": "markdown",
   "metadata": {},
   "source": [
    "### Logistic classifier"
   ]
  },
  {
   "cell_type": "code",
   "execution_count": null,
   "metadata": {},
   "outputs": [],
   "source": [
    "def logistic_classifier(X, y):\n",
    "    scoring = 'f1_weighted'  # scoring methods: https://scikit-learn.org/stable/modules/model_evaluation.html#common-cases-predefined-values\n",
    "\n",
    "    parameters = {\n",
    "        'C': [.1, .5, 1, 1.5, 2],  # Regularization parameter\n",
    "        'penalty': ['l1'],  # Penalty term\n",
    "    }\n",
    "    \n",
    "    lr = LogisticRegression(solver='saga', max_iter=200, multi_class='multinomial', random_state=seed)\n",
    "    clf = GridSearchCV(lr, parameters, scoring='f1_weighted', cv=5)  # grid search with cross validation\n",
    "    clf.fit(X, y)\n",
    "\n",
    "    score = clf.best_score_\n",
    "    param = clf.best_params_\n",
    "\n",
    "    print(f'Best {scoring} score: {round(score, 2)}\\n Best params: {param}')\n",
    "\n",
    "    return clf.best_estimator_"
   ]
  },
  {
   "cell_type": "code",
   "execution_count": null,
   "metadata": {},
   "outputs": [
    {
     "name": "stderr",
     "output_type": "stream",
     "text": [
      "/nfs/home/njb8158/.conda/envs/pa2/lib/python3.11/site-packages/sklearn/linear_model/_sag.py:350: ConvergenceWarning: The max_iter was reached which means the coef_ did not converge\n",
      "  warnings.warn(\n",
      "/nfs/home/njb8158/.conda/envs/pa2/lib/python3.11/site-packages/sklearn/linear_model/_sag.py:350: ConvergenceWarning: The max_iter was reached which means the coef_ did not converge\n",
      "  warnings.warn(\n",
      "/nfs/home/njb8158/.conda/envs/pa2/lib/python3.11/site-packages/sklearn/linear_model/_sag.py:350: ConvergenceWarning: The max_iter was reached which means the coef_ did not converge\n",
      "  warnings.warn(\n",
      "/nfs/home/njb8158/.conda/envs/pa2/lib/python3.11/site-packages/sklearn/linear_model/_sag.py:350: ConvergenceWarning: The max_iter was reached which means the coef_ did not converge\n",
      "  warnings.warn(\n",
      "/nfs/home/njb8158/.conda/envs/pa2/lib/python3.11/site-packages/sklearn/linear_model/_sag.py:350: ConvergenceWarning: The max_iter was reached which means the coef_ did not converge\n",
      "  warnings.warn(\n",
      "/nfs/home/njb8158/.conda/envs/pa2/lib/python3.11/site-packages/sklearn/linear_model/_sag.py:350: ConvergenceWarning: The max_iter was reached which means the coef_ did not converge\n",
      "  warnings.warn(\n",
      "/nfs/home/njb8158/.conda/envs/pa2/lib/python3.11/site-packages/sklearn/linear_model/_sag.py:350: ConvergenceWarning: The max_iter was reached which means the coef_ did not converge\n",
      "  warnings.warn(\n",
      "/nfs/home/njb8158/.conda/envs/pa2/lib/python3.11/site-packages/sklearn/linear_model/_sag.py:350: ConvergenceWarning: The max_iter was reached which means the coef_ did not converge\n",
      "  warnings.warn(\n",
      "/nfs/home/njb8158/.conda/envs/pa2/lib/python3.11/site-packages/sklearn/linear_model/_sag.py:350: ConvergenceWarning: The max_iter was reached which means the coef_ did not converge\n",
      "  warnings.warn(\n",
      "/nfs/home/njb8158/.conda/envs/pa2/lib/python3.11/site-packages/sklearn/linear_model/_sag.py:350: ConvergenceWarning: The max_iter was reached which means the coef_ did not converge\n",
      "  warnings.warn(\n",
      "/nfs/home/njb8158/.conda/envs/pa2/lib/python3.11/site-packages/sklearn/linear_model/_sag.py:350: ConvergenceWarning: The max_iter was reached which means the coef_ did not converge\n",
      "  warnings.warn(\n",
      "/nfs/home/njb8158/.conda/envs/pa2/lib/python3.11/site-packages/sklearn/linear_model/_sag.py:350: ConvergenceWarning: The max_iter was reached which means the coef_ did not converge\n",
      "  warnings.warn(\n",
      "/nfs/home/njb8158/.conda/envs/pa2/lib/python3.11/site-packages/sklearn/linear_model/_sag.py:350: ConvergenceWarning: The max_iter was reached which means the coef_ did not converge\n",
      "  warnings.warn(\n",
      "/nfs/home/njb8158/.conda/envs/pa2/lib/python3.11/site-packages/sklearn/linear_model/_sag.py:350: ConvergenceWarning: The max_iter was reached which means the coef_ did not converge\n",
      "  warnings.warn(\n",
      "/nfs/home/njb8158/.conda/envs/pa2/lib/python3.11/site-packages/sklearn/linear_model/_sag.py:350: ConvergenceWarning: The max_iter was reached which means the coef_ did not converge\n",
      "  warnings.warn(\n",
      "/nfs/home/njb8158/.conda/envs/pa2/lib/python3.11/site-packages/sklearn/linear_model/_sag.py:350: ConvergenceWarning: The max_iter was reached which means the coef_ did not converge\n",
      "  warnings.warn(\n",
      "/nfs/home/njb8158/.conda/envs/pa2/lib/python3.11/site-packages/sklearn/linear_model/_sag.py:350: ConvergenceWarning: The max_iter was reached which means the coef_ did not converge\n",
      "  warnings.warn(\n",
      "/nfs/home/njb8158/.conda/envs/pa2/lib/python3.11/site-packages/sklearn/linear_model/_sag.py:350: ConvergenceWarning: The max_iter was reached which means the coef_ did not converge\n",
      "  warnings.warn(\n",
      "/nfs/home/njb8158/.conda/envs/pa2/lib/python3.11/site-packages/sklearn/linear_model/_sag.py:350: ConvergenceWarning: The max_iter was reached which means the coef_ did not converge\n",
      "  warnings.warn(\n",
      "/nfs/home/njb8158/.conda/envs/pa2/lib/python3.11/site-packages/sklearn/linear_model/_sag.py:350: ConvergenceWarning: The max_iter was reached which means the coef_ did not converge\n",
      "  warnings.warn(\n",
      "/nfs/home/njb8158/.conda/envs/pa2/lib/python3.11/site-packages/sklearn/linear_model/_sag.py:350: ConvergenceWarning: The max_iter was reached which means the coef_ did not converge\n",
      "  warnings.warn(\n",
      "/nfs/home/njb8158/.conda/envs/pa2/lib/python3.11/site-packages/sklearn/linear_model/_sag.py:350: ConvergenceWarning: The max_iter was reached which means the coef_ did not converge\n",
      "  warnings.warn(\n",
      "/nfs/home/njb8158/.conda/envs/pa2/lib/python3.11/site-packages/sklearn/linear_model/_sag.py:350: ConvergenceWarning: The max_iter was reached which means the coef_ did not converge\n",
      "  warnings.warn(\n",
      "/nfs/home/njb8158/.conda/envs/pa2/lib/python3.11/site-packages/sklearn/linear_model/_sag.py:350: ConvergenceWarning: The max_iter was reached which means the coef_ did not converge\n",
      "  warnings.warn(\n",
      "/nfs/home/njb8158/.conda/envs/pa2/lib/python3.11/site-packages/sklearn/linear_model/_sag.py:350: ConvergenceWarning: The max_iter was reached which means the coef_ did not converge\n",
      "  warnings.warn(\n"
     ]
    },
    {
     "name": "stdout",
     "output_type": "stream",
     "text": [
      "Best f1_weighted score: 0.88\n",
      " Best params: {'C': 0.5, 'penalty': 'l1'}\n"
     ]
    },
    {
     "name": "stderr",
     "output_type": "stream",
     "text": [
      "/nfs/home/njb8158/.conda/envs/pa2/lib/python3.11/site-packages/sklearn/linear_model/_sag.py:350: ConvergenceWarning: The max_iter was reached which means the coef_ did not converge\n",
      "  warnings.warn(\n"
     ]
    }
   ],
   "source": [
    "clf = logistic_classifier(X, y)"
   ]
  },
  {
   "cell_type": "code",
   "execution_count": null,
   "metadata": {},
   "outputs": [
    {
     "name": "stdout",
     "output_type": "stream",
     "text": [
      "Overall accuracy: 0.90405\n"
     ]
    }
   ],
   "source": [
    "print(f'Overall accuracy: {clf.score(X, y)}')"
   ]
  },
  {
   "cell_type": "markdown",
   "metadata": {},
   "source": [
    "### XGBoost"
   ]
  },
  {
   "cell_type": "code",
   "execution_count": 8,
   "metadata": {},
   "outputs": [],
   "source": [
    "def xgb_classifier(X, y):\n",
    "    scoring = 'f1_weighted'  # scoring methods: https://scikit-learn.org/stable/modules/model_evaluation.html#common-cases-predefined-values\n",
    "\n",
    "    parameters = {\n",
    "        'eta': [0.1, 0.3, 0.5],  # step size shrinkage\n",
    "        'max_depth': [4, 6, 8],       # size of each tree\n",
    "        'n_estimators': [100, 300, 500]\n",
    "    }\n",
    "    \n",
    "    xgb_model = xgb.XGBClassifier(device='cuda')\n",
    "    clf = GridSearchCV(xgb_model, parameters, scoring='f1_weighted', cv=5)  # grid search with cross validation\n",
    "    clf.fit(X, y)\n",
    "\n",
    "    score = clf.best_score_\n",
    "    param = clf.best_params_\n",
    "\n",
    "    print(f'Best {scoring} score: {round(score, 2)}\\n Best params: {param}')\n",
    "\n",
    "    return clf.best_estimator_"
   ]
  },
  {
   "cell_type": "code",
   "execution_count": 9,
   "metadata": {},
   "outputs": [
    {
     "name": "stdout",
     "output_type": "stream",
     "text": [
      "Best f1_weighted score: 0.76\n",
      " Best params: {'eta': 0.5, 'max_depth': 4, 'n_estimators': 100}\n",
      "Overall accuracy: 0.78145\n"
     ]
    }
   ],
   "source": [
    "clf = xgb_classifier(X, y)\n",
    "print(f'Overall accuracy: {clf.score(X, y)}')"
   ]
  },
  {
   "cell_type": "code",
   "execution_count": 10,
   "metadata": {},
   "outputs": [
    {
     "name": "stdout",
     "output_type": "stream",
     "text": [
      "Overall accuracy: 0.78145\n"
     ]
    }
   ],
   "source": [
    "print(f'Overall accuracy: {clf.score(X, y)}')"
   ]
  }
 ],
 "metadata": {
  "kernelspec": {
   "display_name": "pa2",
   "language": "python",
   "name": "python3"
  },
  "language_info": {
   "codemirror_mode": {
    "name": "ipython",
    "version": 3
   },
   "file_extension": ".py",
   "mimetype": "text/x-python",
   "name": "python",
   "nbconvert_exporter": "python",
   "pygments_lexer": "ipython3",
   "version": "3.11.7"
  }
 },
 "nbformat": 4,
 "nbformat_minor": 2
}
