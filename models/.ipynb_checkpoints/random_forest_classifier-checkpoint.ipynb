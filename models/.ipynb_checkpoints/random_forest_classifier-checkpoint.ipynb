{
 "cells": [
  {
   "cell_type": "code",
   "execution_count": 1,
   "metadata": {
    "colab": {
     "base_uri": "https://localhost:8080/",
     "height": 206
    },
    "id": "L7cb7qsW5UGC",
    "outputId": "6a1fb5ed-0417-4170-a521-aa6e1886aea3"
   },
   "outputs": [
    {
     "data": {
      "text/html": [
       "<div>\n",
       "<style scoped>\n",
       "    .dataframe tbody tr th:only-of-type {\n",
       "        vertical-align: middle;\n",
       "    }\n",
       "\n",
       "    .dataframe tbody tr th {\n",
       "        vertical-align: top;\n",
       "    }\n",
       "\n",
       "    .dataframe thead th {\n",
       "        text-align: right;\n",
       "    }\n",
       "</style>\n",
       "<table border=\"1\" class=\"dataframe\">\n",
       "  <thead>\n",
       "    <tr style=\"text-align: right;\">\n",
       "      <th></th>\n",
       "      <th>category</th>\n",
       "      <th>text</th>\n",
       "    </tr>\n",
       "  </thead>\n",
       "  <tbody>\n",
       "    <tr>\n",
       "      <th>0</th>\n",
       "      <td>0</td>\n",
       "      <td>i didnt feel humiliated</td>\n",
       "    </tr>\n",
       "    <tr>\n",
       "      <th>1</th>\n",
       "      <td>0</td>\n",
       "      <td>i can go from feeling so hopeless to so damned...</td>\n",
       "    </tr>\n",
       "    <tr>\n",
       "      <th>2</th>\n",
       "      <td>3</td>\n",
       "      <td>im grabbing a minute to post i feel greedy wrong</td>\n",
       "    </tr>\n",
       "    <tr>\n",
       "      <th>3</th>\n",
       "      <td>2</td>\n",
       "      <td>i am ever feeling nostalgic about the fireplac...</td>\n",
       "    </tr>\n",
       "    <tr>\n",
       "      <th>4</th>\n",
       "      <td>3</td>\n",
       "      <td>i am feeling grouchy</td>\n",
       "    </tr>\n",
       "  </tbody>\n",
       "</table>\n",
       "</div>"
      ],
      "text/plain": [
       "   category                                               text\n",
       "0         0                            i didnt feel humiliated\n",
       "1         0  i can go from feeling so hopeless to so damned...\n",
       "2         3   im grabbing a minute to post i feel greedy wrong\n",
       "3         2  i am ever feeling nostalgic about the fireplac...\n",
       "4         3                               i am feeling grouchy"
      ]
     },
     "execution_count": 1,
     "metadata": {},
     "output_type": "execute_result"
    }
   ],
   "source": [
    "import numpy as np\n",
    "import matplotlib.pyplot as plt\n",
    "import pandas as pd\n",
    "from sklearn.model_selection import train_test_split\n",
    "from sklearn.model_selection import GridSearchCV\n",
    "from sklearn.metrics import confusion_matrix\n",
    "from sklearn.ensemble import RandomForestClassifier\n",
    "from sklearn.feature_extraction.text import CountVectorizer\n",
    "from sklearn.metrics import confusion_matrix, f1_score, accuracy_score\n",
    "\n",
    "file_path = \"../data_sets/dataset_raw.csv\"\n",
    "data = pd.read_csv(file_path)\n",
    "data.head()"
   ]
  },
  {
   "cell_type": "code",
   "execution_count": 2,
   "metadata": {
    "colab": {
     "base_uri": "https://localhost:8080/"
    },
    "id": "zQxSvBH18NVG",
    "outputId": "c225812d-cdb8-4fa8-f8b8-f34808c41e32"
   },
   "outputs": [
    {
     "name": "stdout",
     "output_type": "stream",
     "text": [
      "Data shape:  (20000, 5009)\n",
      "X_train shape: (12000, 5009)\n",
      "X_val shape: (4000, 5009)\n",
      "X_test shape: (4000, 5009)\n",
      "y_train shape: (12000,)\n",
      "y_val shape: (4000,)\n",
      "y_test shape: (4000,)\n"
     ]
    }
   ],
   "source": [
    "X = data['text']\n",
    "y = data['category']\n",
    "# Vectorizing the data\n",
    "vectorizer_try = CountVectorizer(stop_words='english', min_df=0.0003, ngram_range=(1, 4))\n",
    "X_encoded = vectorizer_try.fit_transform(X)\n",
    "\n",
    "# Printing data shape\n",
    "print('Data shape: ', X_encoded.shape)\n",
    "\n",
    "\n",
    "# Splitting the data and renaming variables\n",
    "X_train, X_temp, y_train, y_temp = train_test_split(X_encoded, y, test_size=0.4, random_state=42)\n",
    "X_val, X_test, y_val, y_test = train_test_split(X_temp, y_temp, test_size=0.5, random_state=42)\n",
    "\n",
    "# Displaying the shapes of the resulting sets\n",
    "print(\"X_train shape:\", X_train.shape)\n",
    "print(\"X_val shape:\", X_val.shape)\n",
    "print(\"X_test shape:\", X_test.shape)\n",
    "print(\"y_train shape:\", y_train.shape)\n",
    "print(\"y_val shape:\", y_val.shape)\n",
    "print(\"y_test shape:\", y_test.shape)"
   ]
  },
  {
   "cell_type": "markdown",
   "metadata": {
    "id": "XP1ZILWp_k2f"
   },
   "source": [
    "**Random Forest Classifier**"
   ]
  },
  {
   "cell_type": "code",
   "execution_count": 3,
   "metadata": {
    "id": "6Nxk1wSq_pXf"
   },
   "outputs": [],
   "source": [
    "def random_forest_classification(X_train, y_train, X_val, y_val, X_test, y_test):\n",
    "    # Define the parameter grid for Random Forest\n",
    "    param_grid = {\n",
    "        'n_estimators': [100, 150],\n",
    "        'max_depth': [None, 10],\n",
    "        'min_samples_split': [2, 5]\n",
    "    }\n",
    "\n",
    "    # Create Random Forest classifier\n",
    "    classifier = RandomForestClassifier(random_state=42)\n",
    "\n",
    "    # Perform grid search with cross-validation\n",
    "    grid_search = GridSearchCV(classifier, param_grid, cv=5, scoring='accuracy', n_jobs=-1)\n",
    "    grid_search.fit(X_train, y_train)\n",
    "\n",
    "    # Best parameters and model\n",
    "    best_classifier = grid_search.best_estimator_\n",
    "    print(\"Best Parameters:\", grid_search.best_params_)\n",
    "\n",
    "    # Validation accuracy\n",
    "    val_predictions = best_classifier.predict(X_val)\n",
    "    val_accuracy = accuracy_score(y_val, val_predictions)\n",
    "    print('\\nValidation accuracy:', val_accuracy)\n",
    "\n",
    "    # Validation F1 score\n",
    "    val_f1 = f1_score(y_val, val_predictions, average='weighted')\n",
    "    print('\\nF1 Score (Validation):', val_f1)\n",
    "\n",
    "    # Test accuracy\n",
    "    test_predictions = best_classifier.predict(X_test)\n",
    "    test_accuracy = accuracy_score(y_test, test_predictions)\n",
    "    print('\\nTesting accuracy:', test_accuracy)\n",
    "\n",
    "    # Test F1 score\n",
    "    test_f1 = f1_score(y_test, test_predictions, average='weighted')\n",
    "    print('\\nF1 Score (Test):', test_f1)\n",
    "\n",
    "    return best_classifier"
   ]
  },
  {
   "cell_type": "code",
   "execution_count": 4,
   "metadata": {
    "colab": {
     "base_uri": "https://localhost:8080/"
    },
    "id": "Cpxyr9jNAw53",
    "outputId": "22870591-dfc2-40de-dffb-76ed9f8d980d"
   },
   "outputs": [
    {
     "name": "stdout",
     "output_type": "stream",
     "text": [
      "Best Parameters: {'max_depth': None, 'min_samples_split': 5, 'n_estimators': 150}\n",
      "\n",
      "Validation accuracy: 0.88025\n",
      "\n",
      "F1 Score (Validation): 0.8801039211409051\n",
      "\n",
      "Testing accuracy: 0.901\n",
      "\n",
      "F1 Score (Test): 0.9005558497846045\n"
     ]
    }
   ],
   "source": [
    "best_rf_classifier = random_forest_classification(X_train, y_train, X_val, y_val, X_test, y_test)"
   ]
  },
  {
   "cell_type": "code",
   "execution_count": 5,
   "metadata": {
    "colab": {
     "base_uri": "https://localhost:8080/",
     "height": 74
    },
    "id": "Z-Lvil_mBkS2",
    "outputId": "22a29f3f-00d8-4d24-ab98-41ced4e3ce31"
   },
   "outputs": [
    {
     "data": {
      "text/html": [
       "<style>#sk-container-id-1 {color: black;background-color: white;}#sk-container-id-1 pre{padding: 0;}#sk-container-id-1 div.sk-toggleable {background-color: white;}#sk-container-id-1 label.sk-toggleable__label {cursor: pointer;display: block;width: 100%;margin-bottom: 0;padding: 0.3em;box-sizing: border-box;text-align: center;}#sk-container-id-1 label.sk-toggleable__label-arrow:before {content: \"▸\";float: left;margin-right: 0.25em;color: #696969;}#sk-container-id-1 label.sk-toggleable__label-arrow:hover:before {color: black;}#sk-container-id-1 div.sk-estimator:hover label.sk-toggleable__label-arrow:before {color: black;}#sk-container-id-1 div.sk-toggleable__content {max-height: 0;max-width: 0;overflow: hidden;text-align: left;background-color: #f0f8ff;}#sk-container-id-1 div.sk-toggleable__content pre {margin: 0.2em;color: black;border-radius: 0.25em;background-color: #f0f8ff;}#sk-container-id-1 input.sk-toggleable__control:checked~div.sk-toggleable__content {max-height: 200px;max-width: 100%;overflow: auto;}#sk-container-id-1 input.sk-toggleable__control:checked~label.sk-toggleable__label-arrow:before {content: \"▾\";}#sk-container-id-1 div.sk-estimator input.sk-toggleable__control:checked~label.sk-toggleable__label {background-color: #d4ebff;}#sk-container-id-1 div.sk-label input.sk-toggleable__control:checked~label.sk-toggleable__label {background-color: #d4ebff;}#sk-container-id-1 input.sk-hidden--visually {border: 0;clip: rect(1px 1px 1px 1px);clip: rect(1px, 1px, 1px, 1px);height: 1px;margin: -1px;overflow: hidden;padding: 0;position: absolute;width: 1px;}#sk-container-id-1 div.sk-estimator {font-family: monospace;background-color: #f0f8ff;border: 1px dotted black;border-radius: 0.25em;box-sizing: border-box;margin-bottom: 0.5em;}#sk-container-id-1 div.sk-estimator:hover {background-color: #d4ebff;}#sk-container-id-1 div.sk-parallel-item::after {content: \"\";width: 100%;border-bottom: 1px solid gray;flex-grow: 1;}#sk-container-id-1 div.sk-label:hover label.sk-toggleable__label {background-color: #d4ebff;}#sk-container-id-1 div.sk-serial::before {content: \"\";position: absolute;border-left: 1px solid gray;box-sizing: border-box;top: 0;bottom: 0;left: 50%;z-index: 0;}#sk-container-id-1 div.sk-serial {display: flex;flex-direction: column;align-items: center;background-color: white;padding-right: 0.2em;padding-left: 0.2em;position: relative;}#sk-container-id-1 div.sk-item {position: relative;z-index: 1;}#sk-container-id-1 div.sk-parallel {display: flex;align-items: stretch;justify-content: center;background-color: white;position: relative;}#sk-container-id-1 div.sk-item::before, #sk-container-id-1 div.sk-parallel-item::before {content: \"\";position: absolute;border-left: 1px solid gray;box-sizing: border-box;top: 0;bottom: 0;left: 50%;z-index: -1;}#sk-container-id-1 div.sk-parallel-item {display: flex;flex-direction: column;z-index: 1;position: relative;background-color: white;}#sk-container-id-1 div.sk-parallel-item:first-child::after {align-self: flex-end;width: 50%;}#sk-container-id-1 div.sk-parallel-item:last-child::after {align-self: flex-start;width: 50%;}#sk-container-id-1 div.sk-parallel-item:only-child::after {width: 0;}#sk-container-id-1 div.sk-dashed-wrapped {border: 1px dashed gray;margin: 0 0.4em 0.5em 0.4em;box-sizing: border-box;padding-bottom: 0.4em;background-color: white;}#sk-container-id-1 div.sk-label label {font-family: monospace;font-weight: bold;display: inline-block;line-height: 1.2em;}#sk-container-id-1 div.sk-label-container {text-align: center;}#sk-container-id-1 div.sk-container {/* jupyter's `normalize.less` sets `[hidden] { display: none; }` but bootstrap.min.css set `[hidden] { display: none !important; }` so we also need the `!important` here to be able to override the default hidden behavior on the sphinx rendered scikit-learn.org. See: https://github.com/scikit-learn/scikit-learn/issues/21755 */display: inline-block !important;position: relative;}#sk-container-id-1 div.sk-text-repr-fallback {display: none;}</style><div id=\"sk-container-id-1\" class=\"sk-top-container\"><div class=\"sk-text-repr-fallback\"><pre>RandomForestClassifier(min_samples_split=5, n_estimators=150, random_state=42)</pre><b>In a Jupyter environment, please rerun this cell to show the HTML representation or trust the notebook. <br />On GitHub, the HTML representation is unable to render, please try loading this page with nbviewer.org.</b></div><div class=\"sk-container\" hidden><div class=\"sk-item\"><div class=\"sk-estimator sk-toggleable\"><input class=\"sk-toggleable__control sk-hidden--visually\" id=\"sk-estimator-id-1\" type=\"checkbox\" checked><label for=\"sk-estimator-id-1\" class=\"sk-toggleable__label sk-toggleable__label-arrow\">RandomForestClassifier</label><div class=\"sk-toggleable__content\"><pre>RandomForestClassifier(min_samples_split=5, n_estimators=150, random_state=42)</pre></div></div></div></div></div>"
      ],
      "text/plain": [
       "RandomForestClassifier(min_samples_split=5, n_estimators=150, random_state=42)"
      ]
     },
     "execution_count": 5,
     "metadata": {},
     "output_type": "execute_result"
    }
   ],
   "source": [
    "best_classifier = RandomForestClassifier(max_depth=None, n_estimators=150, min_samples_split=5, random_state=42)\n",
    "best_classifier.fit(X_train, y_train)"
   ]
  },
  {
   "cell_type": "code",
   "execution_count": 6,
   "metadata": {
    "colab": {
     "base_uri": "https://localhost:8080/"
    },
    "id": "dT1BQZ-3CooS",
    "outputId": "89e09f87-1b45-4504-cacb-07bdd109ff22"
   },
   "outputs": [
    {
     "name": "stdout",
     "output_type": "stream",
     "text": [
      "\n",
      "Validation accuracy: 88.0250\n",
      "\n",
      "Confusion Matrix (Validation):\n",
      "[[1076   31   10   22   37    4]\n",
      " [  42 1193   48   13   13    3]\n",
      " [   4   81  259    3    2    0]\n",
      " [  27   22    6  478   17    1]\n",
      " [  10   11    0   11  393   29]\n",
      " [   4    8    0    2   18  122]]\n",
      "\n",
      "F1 Score (Validation): 0.8801\n",
      "\n",
      "Testing accuracy: 90.1000\n",
      "\n",
      "Confusion Matrix (Test):\n",
      "[[1085   24    6   33   24    3]\n",
      " [  33 1281   36    9   11    3]\n",
      " [   3   56  258    3    4    1]\n",
      " [  27   20    0  486    9    1]\n",
      " [  11    8    2   15  398   14]\n",
      " [   1    9    1    2   27   96]]\n",
      "\n",
      "F1 Score (Test): 0.9006\n"
     ]
    }
   ],
   "source": [
    "val_predictions = best_classifier.predict(X_val)\n",
    "val_accuracy = np.mean(val_predictions == y_val)\n",
    "print('\\nValidation accuracy:', format(100 * val_accuracy, '.4f'))\n",
    "\n",
    "# Compute and print the confusion matrix for validation data\n",
    "cm_val = confusion_matrix(y_val, val_predictions)\n",
    "print('\\nConfusion Matrix (Validation):')\n",
    "print(cm_val)\n",
    "\n",
    "# Compute and print F1 score on the validation data\n",
    "val_f1 = f1_score(y_val, val_predictions, average='weighted')\n",
    "print('\\nF1 Score (Validation):', format(val_f1, '.4f'))\n",
    "\n",
    "# Compute and print accuracy on the test data\n",
    "test_predictions = best_classifier.predict(X_test)\n",
    "test_accuracy = np.mean(test_predictions == y_test)\n",
    "print('\\nTesting accuracy:', format(100 * test_accuracy, '.4f'))\n",
    "\n",
    "# Compute and print the confusion matrix for test data\n",
    "cm_test = confusion_matrix(y_test, test_predictions)\n",
    "print('\\nConfusion Matrix (Test):')\n",
    "print(cm_test)\n",
    "\n",
    "# Compute and print F1 score on the test data\n",
    "test_f1 = f1_score(y_test, test_predictions, average='weighted')\n",
    "print('\\nF1 Score (Test):', format(test_f1, '.4f'))"
   ]
  },
  {
   "cell_type": "code",
   "execution_count": 7,
   "metadata": {
    "colab": {
     "base_uri": "https://localhost:8080/",
     "height": 362
    },
    "id": "nUBadamGDZNq",
    "outputId": "58d972ac-fc07-4c0b-d5b5-f9962be142d4"
   },
   "outputs": [
    {
     "data": {
      "text/html": [
       "<div>\n",
       "<style scoped>\n",
       "    .dataframe tbody tr th:only-of-type {\n",
       "        vertical-align: middle;\n",
       "    }\n",
       "\n",
       "    .dataframe tbody tr th {\n",
       "        vertical-align: top;\n",
       "    }\n",
       "\n",
       "    .dataframe thead th {\n",
       "        text-align: right;\n",
       "    }\n",
       "</style>\n",
       "<table border=\"1\" class=\"dataframe\">\n",
       "  <thead>\n",
       "    <tr style=\"text-align: right;\">\n",
       "      <th></th>\n",
       "      <th>Feature</th>\n",
       "      <th>Importance</th>\n",
       "    </tr>\n",
       "  </thead>\n",
       "  <tbody>\n",
       "    <tr>\n",
       "      <th>0</th>\n",
       "      <td>shaken</td>\n",
       "      <td>0.005969</td>\n",
       "    </tr>\n",
       "    <tr>\n",
       "      <th>1</th>\n",
       "      <td>impressed</td>\n",
       "      <td>0.005344</td>\n",
       "    </tr>\n",
       "    <tr>\n",
       "      <th>2</th>\n",
       "      <td>terrified</td>\n",
       "      <td>0.005322</td>\n",
       "    </tr>\n",
       "    <tr>\n",
       "      <th>3</th>\n",
       "      <td>amazed</td>\n",
       "      <td>0.005249</td>\n",
       "    </tr>\n",
       "    <tr>\n",
       "      <th>4</th>\n",
       "      <td>apprehensive</td>\n",
       "      <td>0.005220</td>\n",
       "    </tr>\n",
       "    <tr>\n",
       "      <th>5</th>\n",
       "      <td>curious</td>\n",
       "      <td>0.005069</td>\n",
       "    </tr>\n",
       "    <tr>\n",
       "      <th>6</th>\n",
       "      <td>bothered</td>\n",
       "      <td>0.005019</td>\n",
       "    </tr>\n",
       "    <tr>\n",
       "      <th>7</th>\n",
       "      <td>weird</td>\n",
       "      <td>0.004919</td>\n",
       "    </tr>\n",
       "    <tr>\n",
       "      <th>8</th>\n",
       "      <td>violent</td>\n",
       "      <td>0.004895</td>\n",
       "    </tr>\n",
       "    <tr>\n",
       "      <th>9</th>\n",
       "      <td>reluctant</td>\n",
       "      <td>0.004799</td>\n",
       "    </tr>\n",
       "  </tbody>\n",
       "</table>\n",
       "</div>"
      ],
      "text/plain": [
       "        Feature  Importance\n",
       "0        shaken    0.005969\n",
       "1     impressed    0.005344\n",
       "2     terrified    0.005322\n",
       "3        amazed    0.005249\n",
       "4  apprehensive    0.005220\n",
       "5       curious    0.005069\n",
       "6      bothered    0.005019\n",
       "7         weird    0.004919\n",
       "8       violent    0.004895\n",
       "9     reluctant    0.004799"
      ]
     },
     "execution_count": 7,
     "metadata": {},
     "output_type": "execute_result"
    }
   ],
   "source": [
    "# Feature importance\n",
    "feature_importances = best_classifier.feature_importances_\n",
    "\n",
    "# Top N feature importances and their contribution\n",
    "N = 10\n",
    "top_n_indices = feature_importances.argsort()[-N:][::-1]\n",
    "top_n_feature_names = [vectorizer_try.get_feature_names_out()[i] for i in top_n_indices]\n",
    "top_n_feature_importances = feature_importances[top_n_indices]\n",
    "\n",
    "top_n_feature_names, top_n_feature_importances\n",
    "feature_importance_df = pd.DataFrame({\n",
    "    'Feature': top_n_feature_names,\n",
    "    'Importance': top_n_feature_importances\n",
    "}).sort_values(by='Importance', ascending=False).reset_index(drop=True)\n",
    "\n",
    "feature_importance_df"
   ]
  }
 ],
 "metadata": {
  "colab": {
   "provenance": []
  },
  "kernelspec": {
   "display_name": "Python 3 (ipykernel)",
   "language": "python",
   "name": "python3"
  },
  "language_info": {
   "codemirror_mode": {
    "name": "ipython",
    "version": 3
   },
   "file_extension": ".py",
   "mimetype": "text/x-python",
   "name": "python",
   "nbconvert_exporter": "python",
   "pygments_lexer": "ipython3",
   "version": "3.10.9"
  }
 },
 "nbformat": 4,
 "nbformat_minor": 1
}
